{
  "nbformat": 4,
  "nbformat_minor": 0,
  "metadata": {
    "colab": {
      "provenance": [],
      "authorship_tag": "ABX9TyMgh8V34HKNZZ5rid4TRtnn",
      "include_colab_link": true
    },
    "kernelspec": {
      "name": "python3",
      "display_name": "Python 3"
    },
    "language_info": {
      "name": "python"
    }
  },
  "cells": [
    {
      "cell_type": "markdown",
      "metadata": {
        "id": "view-in-github",
        "colab_type": "text"
      },
      "source": [
        "<a href=\"https://colab.research.google.com/github/Balu1131/AI-and-ML-ASSIGNMENT-1/blob/main/assignment_1.ipynb\" target=\"_parent\"><img src=\"https://colab.research.google.com/assets/colab-badge.svg\" alt=\"Open In Colab\"/></a>"
      ]
    },
    {
      "cell_type": "code",
      "execution_count": null,
      "metadata": {
        "colab": {
          "base_uri": "https://localhost:8080/"
        },
        "id": "4uyECD5_72mx",
        "outputId": "afb2c1ed-b193-43fa-e621-40f616b20c68"
      },
      "outputs": [
        {
          "output_type": "execute_result",
          "data": {
            "text/plain": [
              "[23, 25, 43, 45, 11, 1, 2, 3]"
            ]
          },
          "metadata": {},
          "execution_count": 1
        }
      ],
      "source": [
        "#task 1--\n",
        "a=[23,25,43,45,11]\n",
        "b=[1,2,3,]\n",
        "a+b"
      ]
    },
    {
      "cell_type": "code",
      "source": [
        "#task 2--\n",
        "\n",
        "num = int(input(\"Enter a number: \"))\n",
        "if (num % 2) == 0:\n",
        "    print(\"{0} is Even\".format(num))\n",
        "else:\n",
        "    print(\"{0} is Odd\".format(num))"
      ],
      "metadata": {
        "colab": {
          "base_uri": "https://localhost:8080/"
        },
        "id": "vP6vmHoe9oML",
        "outputId": "7b9d3cbc-d70a-437c-d4b6-4ba7a7e64004"
      },
      "execution_count": null,
      "outputs": [
        {
          "output_type": "stream",
          "name": "stdout",
          "text": [
            "Enter a number: 25\n",
            "25 is Odd\n"
          ]
        }
      ]
    },
    {
      "cell_type": "code",
      "source": [
        "#task 3--\n",
        "d1 = {'S.no':[1,2,3],'name':['anupama','balaji','laxmi'],'rollno':[25,23,31]}\n",
        "d1"
      ],
      "metadata": {
        "colab": {
          "base_uri": "https://localhost:8080/"
        },
        "id": "LZ1pXtS89w-V",
        "outputId": "5091eff8-b583-4111-a8d2-b88f29d5bfa8"
      },
      "execution_count": null,
      "outputs": [
        {
          "output_type": "execute_result",
          "data": {
            "text/plain": [
              "{'S.no': [1, 2, 3],\n",
              " 'name': ['anupama', 'balaji', 'laxmi'],\n",
              " 'rollno': [25, 23, 31]}"
            ]
          },
          "metadata": {},
          "execution_count": 7
        }
      ]
    },
    {
      "cell_type": "code",
      "source": [
        "#Task 4--\n",
        "\n",
        "def find_odd_numbers(start, end):\n",
        "  for num in range(start, end + 1):\n",
        "     if num % 2 != 0:\n",
        "        print(num)\n",
        "\n",
        "\n",
        "find_odd_numbers(1,20)"
      ],
      "metadata": {
        "colab": {
          "base_uri": "https://localhost:8080/"
        },
        "id": "-U1-LknLF6PS",
        "outputId": "2c181475-e5bc-4be5-8023-7dd35ef59f23"
      },
      "execution_count": null,
      "outputs": [
        {
          "output_type": "stream",
          "name": "stdout",
          "text": [
            "1\n",
            "3\n",
            "5\n",
            "7\n",
            "9\n",
            "11\n",
            "13\n",
            "15\n",
            "17\n",
            "19\n"
          ]
        }
      ]
    },
    {
      "cell_type": "code",
      "source": [
        "#task 5--\n",
        "def sum_of_num(num):\n",
        "  total=0\n",
        "  for i in num:\n",
        "    total = total+i\n",
        "    return total\n",
        "    num = [10,9,8,7,6]\n",
        "  print(num)\n",
        "  print(\"sum of number: \",sum_of_num(num))"
      ],
      "metadata": {
        "id": "gW6lNqPVNjKg"
      },
      "execution_count": null,
      "outputs": []
    }
  ]
}